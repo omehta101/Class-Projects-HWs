{
  "cells": [
    {
      "cell_type": "markdown",
      "id": "6b6f9ac8",
      "metadata": {
        "id": "6b6f9ac8"
      },
      "source": [
        "# Question 1"
      ]
    },
    {
      "cell_type": "code",
      "execution_count": 11,
      "id": "29121833",
      "metadata": {
        "colab": {
          "base_uri": "https://localhost:8080/",
          "height": 231
        },
        "id": "29121833",
        "outputId": "9374a395-86ff-4083-fb1e-62d0d7d0b113"
      },
      "outputs": [
        {
          "output_type": "execute_result",
          "data": {
            "text/plain": [
              "   AMZN Lag 0  direction  AMZN Lag 1  AMZN Lag 2  TSLA Lag 1  TSLA Lag 2\n",
              "0    0.008592          1    0.003297    0.003297    0.002097    0.014699\n",
              "1   -0.005824          0    0.008592    0.008592    0.005015    0.002097\n",
              "2    0.008206          1   -0.005824   -0.005824   -0.024935    0.005015\n",
              "3   -0.000181          0    0.008206    0.008206   -0.056021   -0.024935\n",
              "4   -0.003632          0   -0.000181   -0.000181   -0.072272   -0.056021\n",
              "5   -0.019782          0   -0.003632   -0.003632   -0.041986   -0.072272"
            ],
            "text/html": [
              "\n",
              "  <div id=\"df-3cd891e8-d364-4be5-b451-144bc791719a\">\n",
              "    <div class=\"colab-df-container\">\n",
              "      <div>\n",
              "<style scoped>\n",
              "    .dataframe tbody tr th:only-of-type {\n",
              "        vertical-align: middle;\n",
              "    }\n",
              "\n",
              "    .dataframe tbody tr th {\n",
              "        vertical-align: top;\n",
              "    }\n",
              "\n",
              "    .dataframe thead th {\n",
              "        text-align: right;\n",
              "    }\n",
              "</style>\n",
              "<table border=\"1\" class=\"dataframe\">\n",
              "  <thead>\n",
              "    <tr style=\"text-align: right;\">\n",
              "      <th></th>\n",
              "      <th>AMZN Lag 0</th>\n",
              "      <th>direction</th>\n",
              "      <th>AMZN Lag 1</th>\n",
              "      <th>AMZN Lag 2</th>\n",
              "      <th>TSLA Lag 1</th>\n",
              "      <th>TSLA Lag 2</th>\n",
              "    </tr>\n",
              "  </thead>\n",
              "  <tbody>\n",
              "    <tr>\n",
              "      <th>0</th>\n",
              "      <td>0.008592</td>\n",
              "      <td>1</td>\n",
              "      <td>0.003297</td>\n",
              "      <td>0.003297</td>\n",
              "      <td>0.002097</td>\n",
              "      <td>0.014699</td>\n",
              "    </tr>\n",
              "    <tr>\n",
              "      <th>1</th>\n",
              "      <td>-0.005824</td>\n",
              "      <td>0</td>\n",
              "      <td>0.008592</td>\n",
              "      <td>0.008592</td>\n",
              "      <td>0.005015</td>\n",
              "      <td>0.002097</td>\n",
              "    </tr>\n",
              "    <tr>\n",
              "      <th>2</th>\n",
              "      <td>0.008206</td>\n",
              "      <td>1</td>\n",
              "      <td>-0.005824</td>\n",
              "      <td>-0.005824</td>\n",
              "      <td>-0.024935</td>\n",
              "      <td>0.005015</td>\n",
              "    </tr>\n",
              "    <tr>\n",
              "      <th>3</th>\n",
              "      <td>-0.000181</td>\n",
              "      <td>0</td>\n",
              "      <td>0.008206</td>\n",
              "      <td>0.008206</td>\n",
              "      <td>-0.056021</td>\n",
              "      <td>-0.024935</td>\n",
              "    </tr>\n",
              "    <tr>\n",
              "      <th>4</th>\n",
              "      <td>-0.003632</td>\n",
              "      <td>0</td>\n",
              "      <td>-0.000181</td>\n",
              "      <td>-0.000181</td>\n",
              "      <td>-0.072272</td>\n",
              "      <td>-0.056021</td>\n",
              "    </tr>\n",
              "    <tr>\n",
              "      <th>5</th>\n",
              "      <td>-0.019782</td>\n",
              "      <td>0</td>\n",
              "      <td>-0.003632</td>\n",
              "      <td>-0.003632</td>\n",
              "      <td>-0.041986</td>\n",
              "      <td>-0.072272</td>\n",
              "    </tr>\n",
              "  </tbody>\n",
              "</table>\n",
              "</div>\n",
              "      <button class=\"colab-df-convert\" onclick=\"convertToInteractive('df-3cd891e8-d364-4be5-b451-144bc791719a')\"\n",
              "              title=\"Convert this dataframe to an interactive table.\"\n",
              "              style=\"display:none;\">\n",
              "        \n",
              "  <svg xmlns=\"http://www.w3.org/2000/svg\" height=\"24px\"viewBox=\"0 0 24 24\"\n",
              "       width=\"24px\">\n",
              "    <path d=\"M0 0h24v24H0V0z\" fill=\"none\"/>\n",
              "    <path d=\"M18.56 5.44l.94 2.06.94-2.06 2.06-.94-2.06-.94-.94-2.06-.94 2.06-2.06.94zm-11 1L8.5 8.5l.94-2.06 2.06-.94-2.06-.94L8.5 2.5l-.94 2.06-2.06.94zm10 10l.94 2.06.94-2.06 2.06-.94-2.06-.94-.94-2.06-.94 2.06-2.06.94z\"/><path d=\"M17.41 7.96l-1.37-1.37c-.4-.4-.92-.59-1.43-.59-.52 0-1.04.2-1.43.59L10.3 9.45l-7.72 7.72c-.78.78-.78 2.05 0 2.83L4 21.41c.39.39.9.59 1.41.59.51 0 1.02-.2 1.41-.59l7.78-7.78 2.81-2.81c.8-.78.8-2.07 0-2.86zM5.41 20L4 18.59l7.72-7.72 1.47 1.35L5.41 20z\"/>\n",
              "  </svg>\n",
              "      </button>\n",
              "      \n",
              "  <style>\n",
              "    .colab-df-container {\n",
              "      display:flex;\n",
              "      flex-wrap:wrap;\n",
              "      gap: 12px;\n",
              "    }\n",
              "\n",
              "    .colab-df-convert {\n",
              "      background-color: #E8F0FE;\n",
              "      border: none;\n",
              "      border-radius: 50%;\n",
              "      cursor: pointer;\n",
              "      display: none;\n",
              "      fill: #1967D2;\n",
              "      height: 32px;\n",
              "      padding: 0 0 0 0;\n",
              "      width: 32px;\n",
              "    }\n",
              "\n",
              "    .colab-df-convert:hover {\n",
              "      background-color: #E2EBFA;\n",
              "      box-shadow: 0px 1px 2px rgba(60, 64, 67, 0.3), 0px 1px 3px 1px rgba(60, 64, 67, 0.15);\n",
              "      fill: #174EA6;\n",
              "    }\n",
              "\n",
              "    [theme=dark] .colab-df-convert {\n",
              "      background-color: #3B4455;\n",
              "      fill: #D2E3FC;\n",
              "    }\n",
              "\n",
              "    [theme=dark] .colab-df-convert:hover {\n",
              "      background-color: #434B5C;\n",
              "      box-shadow: 0px 1px 3px 1px rgba(0, 0, 0, 0.15);\n",
              "      filter: drop-shadow(0px 1px 2px rgba(0, 0, 0, 0.3));\n",
              "      fill: #FFFFFF;\n",
              "    }\n",
              "  </style>\n",
              "\n",
              "      <script>\n",
              "        const buttonEl =\n",
              "          document.querySelector('#df-3cd891e8-d364-4be5-b451-144bc791719a button.colab-df-convert');\n",
              "        buttonEl.style.display =\n",
              "          google.colab.kernel.accessAllowed ? 'block' : 'none';\n",
              "\n",
              "        async function convertToInteractive(key) {\n",
              "          const element = document.querySelector('#df-3cd891e8-d364-4be5-b451-144bc791719a');\n",
              "          const dataTable =\n",
              "            await google.colab.kernel.invokeFunction('convertToInteractive',\n",
              "                                                     [key], {});\n",
              "          if (!dataTable) return;\n",
              "\n",
              "          const docLinkHtml = 'Like what you see? Visit the ' +\n",
              "            '<a target=\"_blank\" href=https://colab.research.google.com/notebooks/data_table.ipynb>data table notebook</a>'\n",
              "            + ' to learn more about interactive tables.';\n",
              "          element.innerHTML = '';\n",
              "          dataTable['output_type'] = 'display_data';\n",
              "          await google.colab.output.renderOutput(dataTable, element);\n",
              "          const docLink = document.createElement('div');\n",
              "          docLink.innerHTML = docLinkHtml;\n",
              "          element.appendChild(docLink);\n",
              "        }\n",
              "      </script>\n",
              "    </div>\n",
              "  </div>\n",
              "  "
            ]
          },
          "metadata": {},
          "execution_count": 11
        }
      ],
      "source": [
        "import pandas_datareader as pdr\n",
        "import pandas as pd\n",
        "import numpy as np\n",
        "import random\n",
        "import tensorflow as tf\n",
        "import matplotlib.pyplot as plt\n",
        "from datetime import datetime\n",
        "\n",
        "seed = 10465815\n",
        "random.seed(seed)\n",
        "np.random.seed(seed)\n",
        "tf.random.set_seed(seed)\n",
        "\n",
        "stocks = ['AMZN', 'TSLA']\n",
        "source = 'stooq'\n",
        "data = pdr.DataReader(stocks, source, '2020-01-01', '2022-01-01')['Close']\n",
        "returns = (np.log(data) - np.log(data.shift(1))).dropna()\n",
        "\n",
        "df = pd.DataFrame()\n",
        "df['AMZN Lag 0'] = returns['AMZN'].shift(-2)[:-2]\n",
        "df['AMZN Lag 1'] = returns['AMZN'].shift(-1)[:-2]\n",
        "df['AMZN Lag 2'] = returns['AMZN'].shift(-1)\n",
        "df['TSLA Lag 1'] = returns['TSLA'].shift(-2)[:-2]\n",
        "df['TSLA Lag 2'] = returns['TSLA'].shift(-1)[:-2]\n",
        "direction = (df['AMZN Lag 0'] > 0)+0\n",
        "df['direction'] = direction\n",
        "df = df[['AMZN Lag 0', 'direction', 'AMZN Lag 1', 'AMZN Lag 2', 'TSLA Lag 1', 'TSLA Lag 2']]\n",
        "df = df.reset_index(drop=True)\n",
        "df.head(6)"
      ]
    },
    {
      "cell_type": "markdown",
      "id": "0bdb3fd5",
      "metadata": {
        "id": "0bdb3fd5"
      },
      "source": [
        "## Question 1.5\n",
        "Consider the same classification problem as in Question 1.2 but with a neural network of your own design with at least 1 hidden layer and at least 3 hidden nodes.\n",
        "Use the same train/test split as in Question 1.2.\n",
        "Evaluate the performance of this model with the test accuracy and confusion matrix."
      ]
    },
    {
      "cell_type": "code",
      "execution_count": 15,
      "id": "68222d0d",
      "metadata": {
        "id": "68222d0d"
      },
      "outputs": [],
      "source": [
        "from sklearn.metrics import confusion_matrix\n",
        "from tensorflow import keras"
      ]
    },
    {
      "cell_type": "code",
      "source": [
        "n = len(df)\n",
        "train = np.random.choice(int(n), size=int(n*0.8), replace=False)\n",
        "df_train = df.loc[train]\n",
        "X_train = df_train[['AMZN Lag 1', 'AMZN Lag 2', 'TSLA Lag 1', 'TSLA Lag 2']].to_numpy()\n",
        "y_train = df_train[['direction']].to_numpy()\n",
        "\n",
        "test = list(set(df.index.values) - set(df_train.index.values))\n",
        "df_test = df.loc[test]\n",
        "X_test = df_test[['AMZN Lag 1', 'AMZN Lag 2', 'TSLA Lag 1', 'TSLA Lag 2']].to_numpy()\n",
        "y_test = df_test [['direction']].to_numpy()\n",
        "\n",
        "NN = keras.Sequential()\n",
        "NN.add(keras.layers.Dense(4, input_dim=4, activation = 'relu'))\n",
        "NN.add(keras.layers.Dense(1, activation = 'sigmoid'))\n",
        "\n",
        "NN.compile(optimizer=keras.optimizers.Adam(), loss='binary_crossentropy', metrics = ['accuracy'])\n",
        "NN.summary()\n",
        "\n",
        "losses = NN.fit(X_train, y_train, epochs = 500, verbose = 0)\n",
        "plt.plot(losses.history['accuracy'])\n",
        "plt.show()\n",
        "\n",
        "NN_prob = NN.predict(X_test)\n",
        "NN_pred = (NN_prob > 0.5)+0\n",
        "\n",
        "print(np.mean(NN_pred.T == y_test))\n",
        "print(confusion_matrix(y_pred = NN_pred, y_true=y_test))\n",
        "print(losses.history['accuracy'][-1])"
      ],
      "metadata": {
        "colab": {
          "base_uri": "https://localhost:8080/",
          "height": 561
        },
        "id": "fil4PEAgnlE9",
        "outputId": "7b279f99-7278-409a-999c-656dde1cc7b9"
      },
      "id": "fil4PEAgnlE9",
      "execution_count": 19,
      "outputs": [
        {
          "output_type": "stream",
          "name": "stdout",
          "text": [
            "Model: \"sequential_3\"\n",
            "_________________________________________________________________\n",
            " Layer (type)                Output Shape              Param #   \n",
            "=================================================================\n",
            " dense_6 (Dense)             (None, 4)                 20        \n",
            "                                                                 \n",
            " dense_7 (Dense)             (None, 1)                 5         \n",
            "                                                                 \n",
            "=================================================================\n",
            "Total params: 25\n",
            "Trainable params: 25\n",
            "Non-trainable params: 0\n",
            "_________________________________________________________________\n"
          ]
        },
        {
          "output_type": "display_data",
          "data": {
            "text/plain": [
              "<Figure size 432x288 with 1 Axes>"
            ],
            "image/png": "[encoded data removed]"
          },
          "metadata": {
            "needs_background": "light"
          }
        },
        {
          "output_type": "stream",
          "name": "stdout",
          "text": [
            "4/4 [==============================] - 0s 3ms/step\n",
            "0.5092637976668954\n",
            "[[40 15]\n",
            " [21 25]]\n",
            "0.6234413981437683\n"
          ]
        }
      ]
    },
    {
      "cell_type": "markdown",
      "id": "27b8a65b",
      "metadata": {
        "id": "27b8a65b"
      },
      "source": [
        "# Question 3"
      ]
    },
    {
      "cell_type": "code",
      "execution_count": 21,
      "id": "ad1e0d38",
      "metadata": {
        "id": "ad1e0d38",
        "colab": {
          "base_uri": "https://localhost:8080/",
          "height": 0
        },
        "outputId": "340add28-8fdc-439b-8dba-1f65f368df7f"
      },
      "outputs": [
        {
          "output_type": "stream",
          "name": "stdout",
          "text": [
            "[-0.01428268 -0.00543977  0.00209512  0.01223078]\n"
          ]
        }
      ],
      "source": [
        "df_r = np.vstack((df['AMZN Lag 0'], df['AMZN Lag 1'], df['AMZN Lag 2'], df['TSLA Lag 1'], df['TSLA Lag 2'])).T\n",
        "amzn = df_r[:, 0]\n",
        "df_r1 = np.vstack((df['direction'], df['AMZN Lag 1'], df['AMZN Lag 2'], df['TSLA Lag 1'], df['TSLA Lag 2'])).T\n",
        "direction = df_r1[:, 0]\n",
        "print(np.quantile(amzn[train], [1/5, 2/5, 3/5, 4/5]))\n",
        "direction[:] = 4\n",
        "\n",
        "nums = [4/5, 3/5, 2/5, 1/5]\n",
        "for i in range(len(nums)):\n",
        "  direction[amzn > np.quantile(amzn[train], nums[i])] = i\n",
        "\n",
        "direction_ohe = keras.utils.to_categorical(direction,num_classes=5)\n",
        "y_test = np.delete(direction,train)"
      ]
    },
    {
      "cell_type": "markdown",
      "id": "d6955726",
      "metadata": {
        "id": "d6955726"
      },
      "source": [
        "## Question 3.5\n",
        "Consider the same classification problem as in Question 3.2 but with a neural network of your own design with at least 1 hidden layer and at least 3 hidden nodes.\n",
        "Use the same train/test split as in Question 1.2.\n",
        "Evaluate the performance of this model with the test accuracy and confusion matrix."
      ]
    },
    {
      "cell_type": "code",
      "execution_count": 23,
      "id": "c1342bb8",
      "metadata": {
        "id": "c1342bb8",
        "colab": {
          "base_uri": "https://localhost:8080/",
          "height": 561
        },
        "outputId": "97ff02ce-20a8-4633-fbee-6cac2d54d6bc"
      },
      "outputs": [
        {
          "output_type": "stream",
          "name": "stdout",
          "text": [
            "Model: \"sequential_4\"\n",
            "_________________________________________________________________\n",
            " Layer (type)                Output Shape              Param #   \n",
            "=================================================================\n",
            " dense_8 (Dense)             (None, 4)                 20        \n",
            "                                                                 \n",
            " dense_9 (Dense)             (None, 5)                 25        \n",
            "                                                                 \n",
            "=================================================================\n",
            "Total params: 45\n",
            "Trainable params: 45\n",
            "Non-trainable params: 0\n",
            "_________________________________________________________________\n"
          ]
        },
        {
          "output_type": "display_data",
          "data": {
            "text/plain": [
              "<Figure size 432x288 with 1 Axes>"
            ],
            "image/png": "[encoded data removed]"
          },
          "metadata": {
            "needs_background": "light"
          }
        },
        {
          "output_type": "stream",
          "name": "stdout",
          "text": [
            "4/4 [==============================] - 0s 3ms/step\n",
            "0.801980198019802\n",
            "[[79  1]\n",
            " [19  2]]\n",
            "0.8079800605773926\n"
          ]
        }
      ],
      "source": [
        "NN = keras.Sequential()\n",
        "NN.add(keras.layers.Dense(4, input_dim=4, activation = 'relu'))\n",
        "NN.add(keras.layers.Dense(5, activation='softmax'))\n",
        "\n",
        "NN.compile(optimizer=keras.optimizers.Adam(), loss = 'categorical_crossentropy', metrics=['accuracy'])\n",
        "NN.summary()\n",
        "\n",
        "losses = NN.fit(X_train, direction_ohe[train, :], epochs = 500, verbose = 0)\n",
        "plt.plot(losses.history['accuracy'])\n",
        "plt.show()\n",
        "\n",
        "NN_prob = NN.predict(X_test)\n",
        "NN_pred = np.argmax(NN_prob, axis = 1)\n",
        "\n",
        "print(np.mean(NN_pred.T == y_test))\n",
        "print(confusion_matrix(y_pred = NN_pred, y_true=y_test))\n",
        "print(losses.history['accuracy'][-1])"
      ]
    },
    {
      "cell_type": "code",
      "source": [
        "!wget -nc https://raw.githubusercontent.com/brpy/colab-pdf/master/colab_pdf.py\n",
        "from colab_pdf import colab_pdf\n",
        "colab_pdf('A4.ipynb')"
      ],
      "metadata": {
        "colab": {
          "base_uri": "https://localhost:8080/",
          "height": 1000
        },
        "id": "uaRdKGePvzL9",
        "outputId": "c05b744e-734d-4133-91bf-f0de877a68c3"
      },
      "id": "uaRdKGePvzL9",
      "execution_count": 27,
      "outputs": [
        {
          "output_type": "stream",
          "name": "stdout",
          "text": [
            "File ‘colab_pdf.py’ already there; not retrieving.\n",
            "\n",
            "\n",
            "WARNING: apt does not have a stable CLI interface. Use with caution in scripts.\n",
            "\n",
            "\n",
            "WARNING: apt does not have a stable CLI interface. Use with caution in scripts.\n",
            "\n",
            "[NbConvertApp] WARNING | pattern '$notebookpath$file_name' matched no files\n",
            "This application is used to convert notebook files (*.ipynb)\n",
            "        to various other formats.\n",
            "\n",
            "        WARNING: THE COMMANDLINE INTERFACE MAY CHANGE IN FUTURE RELEASES.\n",
            "\n",
            "Options\n",
            "=======\n",
            "The options below are convenience aliases to configurable class-options,\n",
            "as listed in the \"Equivalent to\" description-line of the aliases.\n",
            "To see all configurable class-options for some <cmd>, use:\n",
            "    <cmd> --help-all\n",
            "\n",
            "--debug\n",
            "    set log level to logging.DEBUG (maximize logging output)\n",
            "    Equivalent to: [--Application.log_level=10]\n",
            "--show-config\n",
            "    Show the application's configuration (human-readable format)\n",
            "    Equivalent to: [--Application.show_config=True]\n",
            "--show-config-json\n",
            "    Show the application's configuration (json format)\n",
            "    Equivalent to: [--Application.show_config_json=True]\n",
            "--generate-config\n",
            "    generate default config file\n",
            "    Equivalent to: [--JupyterApp.generate_config=True]\n",
            "-y\n",
            "    Answer yes to any questions instead of prompting.\n",
            "    Equivalent to: [--JupyterApp.answer_yes=True]\n",
            "--execute\n",
            "    Execute the notebook prior to export.\n",
            "    Equivalent to: [--ExecutePreprocessor.enabled=True]\n",
            "--allow-errors\n",
            "    Continue notebook execution even if one of the cells throws an error and include the error message in the cell output (the default behaviour is to abort conversion). This flag is only relevant if '--execute' was specified, too.\n",
            "    Equivalent to: [--ExecutePreprocessor.allow_errors=True]\n",
            "--stdin\n",
            "    read a single notebook file from stdin. Write the resulting notebook with default basename 'notebook.*'\n",
            "    Equivalent to: [--NbConvertApp.from_stdin=True]\n",
            "--stdout\n",
            "    Write notebook output to stdout instead of files.\n",
            "    Equivalent to: [--NbConvertApp.writer_class=StdoutWriter]\n",
            "--inplace\n",
            "    Run nbconvert in place, overwriting the existing notebook (only \n",
            "            relevant when converting to notebook format)\n",
            "    Equivalent to: [--NbConvertApp.use_output_suffix=False --NbConvertApp.export_format=notebook --FilesWriter.build_directory=]\n",
            "--clear-output\n",
            "    Clear output of current file and save in place, \n",
            "            overwriting the existing notebook.\n",
            "    Equivalent to: [--NbConvertApp.use_output_suffix=False --NbConvertApp.export_format=notebook --FilesWriter.build_directory= --ClearOutputPreprocessor.enabled=True]\n",
            "--no-prompt\n",
            "    Exclude input and output prompts from converted document.\n",
            "    Equivalent to: [--TemplateExporter.exclude_input_prompt=True --TemplateExporter.exclude_output_prompt=True]\n",
            "--no-input\n",
            "    Exclude input cells and output prompts from converted document. \n",
            "            This mode is ideal for generating code-free reports.\n",
            "    Equivalent to: [--TemplateExporter.exclude_output_prompt=True --TemplateExporter.exclude_input=True]\n",
            "--log-level=<Enum>\n",
            "    Set the log level by value or name.\n",
            "    Choices: any of [0, 10, 20, 30, 40, 50, 'DEBUG', 'INFO', 'WARN', 'ERROR', 'CRITICAL']\n",
            "    Default: 30\n",
            "    Equivalent to: [--Application.log_level]\n",
            "--config=<Unicode>\n",
            "    Full path of a config file.\n",
            "    Default: ''\n",
            "    Equivalent to: [--JupyterApp.config_file]\n",
            "--to=<Unicode>\n",
            "    The export format to be used, either one of the built-in formats\n",
            "            ['asciidoc', 'custom', 'html', 'latex', 'markdown', 'notebook', 'pdf', 'python', 'rst', 'script', 'slides']\n",
            "            or a dotted object name that represents the import path for an\n",
            "            `Exporter` class\n",
            "    Default: 'html'\n",
            "    Equivalent to: [--NbConvertApp.export_format]\n",
            "--template=<Unicode>\n",
            "    Name of the template file to use\n",
            "    Default: ''\n",
            "    Equivalent to: [--TemplateExporter.template_file]\n",
            "--writer=<DottedObjectName>\n",
            "    Writer class used to write the \n",
            "                                        results of the conversion\n",
            "    Default: 'FilesWriter'\n",
            "    Equivalent to: [--NbConvertApp.writer_class]\n",
            "--post=<DottedOrNone>\n",
            "    PostProcessor class used to write the\n",
            "                                        results of the conversion\n",
            "    Default: ''\n",
            "    Equivalent to: [--NbConvertApp.postprocessor_class]\n",
            "--output=<Unicode>\n",
            "    overwrite base name use for output files.\n",
            "                can only be used when converting one notebook at a time.\n",
            "    Default: ''\n",
            "    Equivalent to: [--NbConvertApp.output_base]\n",
            "--output-dir=<Unicode>\n",
            "    Directory to write output(s) to. Defaults\n",
            "                                  to output to the directory of each notebook. To recover\n",
            "                                  previous default behaviour (outputting to the current \n",
            "                                  working directory) use . as the flag value.\n",
            "    Default: ''\n",
            "    Equivalent to: [--FilesWriter.build_directory]\n",
            "--reveal-prefix=<Unicode>\n",
            "    The URL prefix for reveal.js (version 3.x).\n",
            "            This defaults to the reveal CDN, but can be any url pointing to a copy \n",
            "            of reveal.js. \n",
            "            For speaker notes to work, this must be a relative path to a local \n",
            "            copy of reveal.js: e.g., \"reveal.js\".\n",
            "            If a relative path is given, it must be a subdirectory of the\n",
            "            current directory (from which the server is run).\n",
            "            See the usage documentation\n",
            "            (https://nbconvert.readthedocs.io/en/latest/usage.html#reveal-js-html-slideshow)\n",
            "            for more details.\n",
            "    Default: ''\n",
            "    Equivalent to: [--SlidesExporter.reveal_url_prefix]\n",
            "--nbformat=<Enum>\n",
            "    The nbformat version to write.\n",
            "            Use this to downgrade notebooks.\n",
            "    Choices: any of [1, 2, 3, 4]\n",
            "    Default: 4\n",
            "    Equivalent to: [--NotebookExporter.nbformat_version]\n",
            "\n",
            "Examples\n",
            "--------\n",
            "\n",
            "    The simplest way to use nbconvert is\n",
            "\n",
            "            > jupyter nbconvert mynotebook.ipynb\n",
            "\n",
            "            which will convert mynotebook.ipynb to the default format (probably HTML).\n",
            "\n",
            "            You can specify the export format with `--to`.\n",
            "            Options include ['asciidoc', 'custom', 'html', 'latex', 'markdown', 'notebook', 'pdf', 'python', 'rst', 'script', 'slides'].\n",
            "\n",
            "            > jupyter nbconvert --to latex mynotebook.ipynb\n",
            "\n",
            "            Both HTML and LaTeX support multiple output templates. LaTeX includes\n",
            "            'base', 'article' and 'report'.  HTML includes 'basic' and 'full'. You\n",
            "            can specify the flavor of the format used.\n",
            "\n",
            "            > jupyter nbconvert --to html --template basic mynotebook.ipynb\n",
            "\n",
            "            You can also pipe the output to stdout, rather than a file\n",
            "\n",
            "            > jupyter nbconvert mynotebook.ipynb --stdout\n",
            "\n",
            "            PDF is generated via latex\n",
            "\n",
            "            > jupyter nbconvert mynotebook.ipynb --to pdf\n",
            "\n",
            "            You can get (and serve) a Reveal.js-powered slideshow\n",
            "\n",
            "            > jupyter nbconvert myslides.ipynb --to slides --post serve\n",
            "\n",
            "            Multiple notebooks can be given at the command line in a couple of \n",
            "            different ways:\n",
            "\n",
            "            > jupyter nbconvert notebook*.ipynb\n",
            "            > jupyter nbconvert notebook1.ipynb notebook2.ipynb\n",
            "\n",
            "            or you can specify the notebooks list in a config file, containing::\n",
            "\n",
            "                c.NbConvertApp.notebooks = [\"my_notebook.ipynb\"]\n",
            "\n",
            "            > jupyter nbconvert --config mycfg.py\n",
            "\n",
            "To see all available configurables, use `--help-all`.\n",
            "\n"
          ]
        },
        {
          "output_type": "execute_result",
          "data": {
            "text/plain": [
              "'File Download Unsuccessful. Saved in Google Drive'"
            ],
            "application/vnd.google.colaboratory.intrinsic+json": {
              "type": "string"
            }
          },
          "metadata": {},
          "execution_count": 27
        }
      ]
    }
  ],
  "metadata": {
    "kernelspec": {
      "display_name": "Python 3 (ipykernel)",
      "language": "python",
      "name": "python3"
    },
    "language_info": {
      "codemirror_mode": {
        "name": "ipython",
        "version": 3
      },
      "file_extension": ".py",
      "mimetype": "text/x-python",
      "name": "python",
      "nbconvert_exporter": "python",
      "pygments_lexer": "ipython3",
      "version": "3.9.7"
    },
    "colab": {
      "provenance": []
    }
  },
  "nbformat": 4,
  "nbformat_minor": 5
}